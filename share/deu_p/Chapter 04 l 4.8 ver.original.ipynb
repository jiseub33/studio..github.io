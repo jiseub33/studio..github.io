{
 "cells": [
  {
   "cell_type": "code",
   "execution_count": null,
   "id": "85d9a9dd",
   "metadata": {},
   "outputs": [],
   "source": [
    "print(\"1)덧셈 2)뺄셈 3)곱셈 4)나눗셈\") #print를 사용하여 연산의 번호 설명\n",
    "ope = int(input(\"어떤 연산을 원하는지 번호를 입력하세요:\")) #int를 사용하여 문자열을 정수형으로 변환\n",
    "print(\"연산을 원하는 숫자 두개를 입력하세요\") #print를 사용하여 다음행동 지시\n",
    "num1, num2 = map(int,input().split()) #더 자세히 알아보기! ①참고\n",
    "\n",
    "if ope == 1: #ope가 1일 경일\n",
    "    print (num1,\"+\", num2, \"=\", num1 + num2) #연산식 출력후 덧셈 연산결과를 출력\n",
    "elif ope == 2: #ope가 2일 경우\n",
    "    print (num1,\"-\", num2, \"=\", num1 - num2) #연산식 출력후 뺄셈 연산결과를 출력\n",
    "elif ope == 3: #ope가 3일 경우\n",
    "    print (num1,\"*\", num2, \"=\", num1 * num2) #연산식 출력후 곱셈 연산결과를 출력\n",
    "elif ope == 4: #ope가 4일 경우\n",
    "    print (num1,\"/\", num2, \"=\", num1 / num2) #연산식 출력후 나눗셈 연산결과를 출력\n",
    "else: #ope가 1,2,3,4가 아닌 다른 숫자일 경우 \"잘못 입력하였습니다.\"출력\n",
    "    print(\"잘못 입력하였습니다.\")"
   ]
  }
 ],
 "metadata": {
  "kernelspec": {
   "display_name": "Python 3 (ipykernel)",
   "language": "python",
   "name": "python3"
  },
  "language_info": {
   "codemirror_mode": {
    "name": "ipython",
    "version": 3
   },
   "file_extension": ".py",
   "mimetype": "text/x-python",
   "name": "python",
   "nbconvert_exporter": "python",
   "pygments_lexer": "ipython3",
   "version": "3.11.4"
  }
 },
 "nbformat": 4,
 "nbformat_minor": 5
}
